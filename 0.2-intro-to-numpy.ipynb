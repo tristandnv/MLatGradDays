{
 "cells": [
  {
   "cell_type": "markdown",
   "metadata": {},
   "source": [
    "# Important python libraries\n",
    "\n",
    " - `numpy` (numerics) + `scipy` (scientific functions) \n",
    " - `matplotlib` - plotting\n",
    " - `astropy` - convenient operations on data for Data Science  (`pandas` is another alternative) \n",
    " - `scikit-learn` - machine learning\n",
    " \n",
    "We'll meet them very soon during the ML session."
   ]
  },
  {
   "cell_type": "markdown",
   "metadata": {},
   "source": [
    "## Hello numpy!\n",
    "\n",
    "`numpy` is the core of scientific python. It is the most convenient way to organize number-crunching in python."
   ]
  },
  {
   "cell_type": "code",
   "execution_count": 1,
   "metadata": {
    "collapsed": true
   },
   "outputs": [],
   "source": [
    "import numpy"
   ]
  },
  {
   "cell_type": "code",
   "execution_count": 2,
   "metadata": {
    "collapsed": false
   },
   "outputs": [
    {
     "data": {
      "text/plain": [
       "array([0, 1, 2, 3, 4, 5, 6, 7, 8, 9])"
      ]
     },
     "execution_count": 2,
     "metadata": {},
     "output_type": "execute_result"
    }
   ],
   "source": [
    "x = numpy.arange(10)\n",
    "x\n",
    "## What's the difference between a list in Python and a numpy.arange?"
   ]
  },
  {
   "cell_type": "code",
   "execution_count": 6,
   "metadata": {
    "collapsed": false
   },
   "outputs": [
    {
     "data": {
      "text/plain": [
       "array([[0, 1],\n",
       "       [2, 3],\n",
       "       [4, 5],\n",
       "       [6, 7],\n",
       "       [8, 9]])"
      ]
     },
     "execution_count": 6,
     "metadata": {},
     "output_type": "execute_result"
    }
   ],
   "source": [
    "x.reshape(5,2)"
   ]
  },
  {
   "cell_type": "code",
   "execution_count": 7,
   "metadata": {
    "collapsed": false
   },
   "outputs": [
    {
     "data": {
      "text/plain": [
       "array([[0, 1, 2, 3, 4],\n",
       "       [5, 6, 7, 8, 9]])"
      ]
     },
     "execution_count": 7,
     "metadata": {},
     "output_type": "execute_result"
    }
   ],
   "source": [
    "x.reshape(2, 5)"
   ]
  },
  {
   "cell_type": "code",
   "execution_count": 8,
   "metadata": {
    "collapsed": false
   },
   "outputs": [
    {
     "data": {
      "text/plain": [
       "array([0, 1, 2, 3])"
      ]
     },
     "execution_count": 8,
     "metadata": {},
     "output_type": "execute_result"
    }
   ],
   "source": [
    "# slicing has the same logic for lists / strings / tuples / numpy, etc\n",
    "x[:4]"
   ]
  },
  {
   "cell_type": "code",
   "execution_count": 9,
   "metadata": {
    "collapsed": false
   },
   "outputs": [
    {
     "name": "stdout",
     "output_type": "stream",
     "text": [
      "[0 1 2]\n",
      "[3 4 5 6]\n",
      "[7 8 9]\n"
     ]
    }
   ],
   "source": [
    "print x[:3]\n",
    "print x[3:7]\n",
    "print x[7:]"
   ]
  },
  {
   "cell_type": "markdown",
   "metadata": {},
   "source": [
    "### Vector operations"
   ]
  },
  {
   "cell_type": "code",
   "execution_count": 12,
   "metadata": {
    "collapsed": false
   },
   "outputs": [
    {
     "name": "stdout",
     "output_type": "stream",
     "text": [
      "[     0      1      2 ..., 999997 999998 999999]\n",
      "[  1.20000000e+01   1.50000000e+01   1.80000000e+01 ...,   3.00000300e+06\n",
      "   3.00000600e+06   3.00000900e+06]\n"
     ]
    }
   ],
   "source": [
    "x = numpy.arange(10 ** 6)\n",
    "# vector operations do similar task for each element. In this case each element is multiplied by 3 and 12 added.\n",
    "print x\n",
    "print 3 * x + 12."
   ]
  },
  {
   "cell_type": "code",
   "execution_count": 14,
   "metadata": {
    "collapsed": false
   },
   "outputs": [
    {
     "name": "stdout",
     "output_type": "stream",
     "text": [
      "100 loops, best of 3: 7.39 ms per loop\n"
     ]
    }
   ],
   "source": [
    "# use timing magic to understand this is quite fast\n",
    "%timeit 3 * x + 12."
   ]
  },
  {
   "cell_type": "code",
   "execution_count": 17,
   "metadata": {
    "collapsed": false
   },
   "outputs": [
    {
     "data": {
      "text/plain": [
       "array([[ 0,  1,  2],\n",
       "       [ 3,  4,  5],\n",
       "       [ 6,  7,  8],\n",
       "       [ 9, 10, 11],\n",
       "       [12, 13, 14]])"
      ]
     },
     "execution_count": 17,
     "metadata": {},
     "output_type": "execute_result"
    }
   ],
   "source": [
    "Z = numpy.arange(15).reshape(5, 3)\n",
    "Z"
   ]
  },
  {
   "cell_type": "code",
   "execution_count": 18,
   "metadata": {
    "collapsed": false
   },
   "outputs": [
    {
     "data": {
      "text/plain": [
       "array([[  0.,   1.,   2.],\n",
       "       [  3.,   4.,   5.],\n",
       "       [  6.,   7.,   8.],\n",
       "       [  9.,  10.,  11.],\n",
       "       [ 12.,  13.,  14.]])"
      ]
     },
     "execution_count": 18,
     "metadata": {},
     "output_type": "execute_result"
    }
   ],
   "source": [
    "numpy.log(numpy.exp(Z)) # type conversion happened"
   ]
  },
  {
   "cell_type": "code",
   "execution_count": 19,
   "metadata": {
    "collapsed": true
   },
   "outputs": [],
   "source": [
    "Z += 4"
   ]
  },
  {
   "cell_type": "code",
   "execution_count": 20,
   "metadata": {
    "collapsed": false
   },
   "outputs": [
    {
     "data": {
      "text/plain": [
       "array([[ 4,  5,  6],\n",
       "       [ 7,  8,  9],\n",
       "       [10, 11, 12],\n",
       "       [13, 14, 15],\n",
       "       [16, 17, 18]])"
      ]
     },
     "execution_count": 20,
     "metadata": {},
     "output_type": "execute_result"
    }
   ],
   "source": [
    "Z"
   ]
  },
  {
   "cell_type": "code",
   "execution_count": 32,
   "metadata": {
    "collapsed": false
   },
   "outputs": [
    {
     "name": "stdout",
     "output_type": "stream",
     "text": [
      "[[ 4  5  6]\n",
      " [10 11 12]\n",
      " [16 17 18]]\n",
      "[[ 4  5  6]\n",
      " [10 11 12]\n",
      " [16 17 18]]\n",
      "[[ 5]\n",
      " [11]\n",
      " [17]]\n"
     ]
    }
   ],
   "source": [
    "print Z[::2,:]\n",
    "print Z[::2] #gives same result, why is the \",:\" needed for?\n",
    "print Z[::2,1:2] #now I know lol xD"
   ]
  },
  {
   "cell_type": "code",
   "execution_count": 45,
   "metadata": {
    "collapsed": false
   },
   "outputs": [
    {
     "name": "stdout",
     "output_type": "stream",
     "text": [
      "[[ 4  5  6]\n",
      " [10 11 12]\n",
      " [16 17 18]]\n",
      "[[ 4  5  6]\n",
      " [ 7  8  9]\n",
      " [10 11 12]\n",
      " [13 14 15]\n",
      " [16 17 18]]\n"
     ]
    }
   ],
   "source": [
    "print Z[[0, 2, 4], :]\n",
    "print Z\n",
    "numpy.sum?"
   ]
  },
  {
   "cell_type": "code",
   "execution_count": 42,
   "metadata": {
    "collapsed": false
   },
   "outputs": [
    {
     "name": "stdout",
     "output_type": "stream",
     "text": [
      "[15 24 33 42 51]\n",
      "[50 55 60]\n"
     ]
    }
   ],
   "source": [
    "print Z.sum(axis=1)\n",
    "print Z.sum(axis=0)"
   ]
  },
  {
   "cell_type": "code",
   "execution_count": 43,
   "metadata": {
    "collapsed": false
   },
   "outputs": [
    {
     "data": {
      "text/plain": [
       "array([50, 55, 60])"
      ]
     },
     "execution_count": 43,
     "metadata": {},
     "output_type": "execute_result"
    }
   ],
   "source": [
    "# axes are also zero-numerated\n",
    "Z.sum(axis=0)"
   ]
  },
  {
   "cell_type": "code",
   "execution_count": 46,
   "metadata": {
    "collapsed": false
   },
   "outputs": [
    {
     "data": {
      "text/plain": [
       "array([ 6,  9, 12, 15, 18])"
      ]
     },
     "execution_count": 46,
     "metadata": {},
     "output_type": "execute_result"
    }
   ],
   "source": [
    "Z.max(axis=1)"
   ]
  },
  {
   "cell_type": "code",
   "execution_count": 47,
   "metadata": {
    "collapsed": false
   },
   "outputs": [
    {
     "data": {
      "text/plain": [
       "array([[ -6,  -5,  -4],\n",
       "       [ -9,  -8,  -7],\n",
       "       [-12, -11, -10],\n",
       "       [-15, -14, -13],\n",
       "       [-18, -17, -16]])"
      ]
     },
     "execution_count": 47,
     "metadata": {},
     "output_type": "execute_result"
    }
   ],
   "source": [
    "Z2 = - Z\n",
    "Z2 = numpy.sort(Z2, axis=1)\n",
    "Z2"
   ]
  },
  {
   "cell_type": "markdown",
   "metadata": {},
   "source": [
    "## Indexing with boolean array"
   ]
  },
  {
   "cell_type": "code",
   "execution_count": 96,
   "metadata": {
    "collapsed": false
   },
   "outputs": [
    {
     "name": "stdout",
     "output_type": "stream",
     "text": [
      "[0 1 2 3 4 5 6 7 8 9]\n"
     ]
    }
   ],
   "source": [
    "x = numpy.arange(10)\n",
    "x\n",
    "print x"
   ]
  },
  {
   "cell_type": "code",
   "execution_count": 49,
   "metadata": {
    "collapsed": false
   },
   "outputs": [
    {
     "data": {
      "text/plain": [
       "array([False, False, False, False,  True,  True,  True,  True,  True,  True], dtype=bool)"
      ]
     },
     "execution_count": 49,
     "metadata": {},
     "output_type": "execute_result"
    }
   ],
   "source": [
    "x > 3"
   ]
  },
  {
   "cell_type": "code",
   "execution_count": 50,
   "metadata": {
    "collapsed": false
   },
   "outputs": [
    {
     "data": {
      "text/plain": [
       "array([0, 1, 2, 3, 4, 5, 6, 7])"
      ]
     },
     "execution_count": 50,
     "metadata": {},
     "output_type": "execute_result"
    }
   ],
   "source": [
    "x[x < 7.4]"
   ]
  },
  {
   "cell_type": "markdown",
   "metadata": {},
   "source": [
    "## Copies\n",
    "\n",
    "Many operations in numpy don't create copies, but operate with the same memory "
   ]
  },
  {
   "cell_type": "code",
   "execution_count": 70,
   "metadata": {
    "collapsed": false
   },
   "outputs": [
    {
     "name": "stdout",
     "output_type": "stream",
     "text": [
      "[0 1 2 3 4 5 6 7 8 9] [0 1 2 3 4]\n",
      "[10  1  2  3  4  5  6  7  8  9] [10  1  2  3  4]\n",
      "[-10  -9  -8  -7  -6  -5  -4  -3  -2  -1   0   1   2   3   4   5   6   7\n",
      "   8   9]\n"
     ]
    }
   ],
   "source": [
    "x = numpy.arange(10)\n",
    "y = x[:5]\n",
    "z = numpy.arange(-10,10)\n",
    "print x, y\n",
    "y[0] = 10\n",
    "print x, y\n",
    "print z"
   ]
  },
  {
   "cell_type": "markdown",
   "metadata": {},
   "source": [
    "this happened because x and y point __to the same place in memory__"
   ]
  },
  {
   "cell_type": "code",
   "execution_count": 51,
   "metadata": {
    "collapsed": false
   },
   "outputs": [
    {
     "name": "stdout",
     "output_type": "stream",
     "text": [
      "[0 1 2 3 4 5 6 7 8 9] [0 1 2 3 4]\n",
      "[0 1 2 3 4 5 6 7 8 9] [10  1  2  3  4]\n"
     ]
    }
   ],
   "source": [
    "x = numpy.arange(10)\n",
    "y = x[:5].copy()\n",
    "print x, y\n",
    "y[0] = 10\n",
    "print x, y"
   ]
  },
  {
   "cell_type": "markdown",
   "metadata": {},
   "source": [
    "## Random numbers\n",
    "\n",
    "module `numpy.random` helps with generating random numbers"
   ]
  },
  {
   "cell_type": "code",
   "execution_count": 24,
   "metadata": {
    "collapsed": false
   },
   "outputs": [
    {
     "data": {
      "text/plain": [
       "array([ 11.78220635,   8.93663103, -17.50627085, ...,  17.10257018,\n",
       "         7.24243523,  -0.95099759])"
      ]
     },
     "execution_count": 24,
     "metadata": {},
     "output_type": "execute_result"
    }
   ],
   "source": [
    "# generating 10000 random numbers at once\n",
    "numpy.random.normal(loc=2, scale=12, size=10000)"
   ]
  },
  {
   "cell_type": "markdown",
   "metadata": {},
   "source": [
    "## Sorting"
   ]
  },
  {
   "cell_type": "code",
   "execution_count": 52,
   "metadata": {
    "collapsed": false
   },
   "outputs": [],
   "source": [
    "x = numpy.random.random(size=1000)\n",
    "x = numpy.sort(x)"
   ]
  },
  {
   "cell_type": "code",
   "execution_count": 53,
   "metadata": {
    "collapsed": false
   },
   "outputs": [
    {
     "name": "stdout",
     "output_type": "stream",
     "text": [
      "[ 0.00079363  0.00181992  0.00260246  0.00357025  0.00541872  0.00711193\n",
      "  0.00889961  0.00930866  0.0096442   0.00987037]\n",
      "[ 0.99223872  0.99225742  0.99244583  0.99324259  0.9961338   0.99636424\n",
      "  0.99734876  0.99874227  0.9990551   0.9998984 ]\n"
     ]
    }
   ],
   "source": [
    "print x[:10]\n",
    "print x[-10:]"
   ]
  },
  {
   "cell_type": "markdown",
   "metadata": {},
   "source": [
    "## Arg...\n",
    "\n",
    "arg-functions allow writing non-trivial operations with a couple of lines"
   ]
  },
  {
   "cell_type": "code",
   "execution_count": 57,
   "metadata": {
    "collapsed": false
   },
   "outputs": [],
   "source": [
    "# random.random generates uniform in [0, 1]\n",
    "random_numbers = numpy.random.random(size=1000)\n",
    "indices = numpy.argsort(random_numbers)\n",
    "#print indices\n",
    "numpy.argsort?"
   ]
  },
  {
   "cell_type": "code",
   "execution_count": 28,
   "metadata": {
    "collapsed": false
   },
   "outputs": [
    {
     "data": {
      "text/plain": [
       "True"
      ]
     },
     "execution_count": 28,
     "metadata": {},
     "output_type": "execute_result"
    }
   ],
   "source": [
    "numpy.alltrue(random_numbers[indices] == numpy.sort(random_numbers))"
   ]
  },
  {
   "cell_type": "code",
   "execution_count": 58,
   "metadata": {
    "collapsed": false
   },
   "outputs": [
    {
     "data": {
      "text/plain": [
       "array([132, 810, 251, 538, 490, 540,  95, 461, 681, 836])"
      ]
     },
     "execution_count": 58,
     "metadata": {},
     "output_type": "execute_result"
    }
   ],
   "source": [
    "indices[:10]"
   ]
  },
  {
   "cell_type": "code",
   "execution_count": 59,
   "metadata": {
    "collapsed": false
   },
   "outputs": [
    {
     "data": {
      "text/plain": [
       "(0.0009618470217825914, 0.99970844374712431)"
      ]
     },
     "execution_count": 59,
     "metadata": {},
     "output_type": "execute_result"
    }
   ],
   "source": [
    "random_numbers.min(), random_numbers.max()"
   ]
  },
  {
   "cell_type": "code",
   "execution_count": 60,
   "metadata": {
    "collapsed": false
   },
   "outputs": [
    {
     "data": {
      "text/plain": [
       "(296, 0.99970844374712431)"
      ]
     },
     "execution_count": 60,
     "metadata": {},
     "output_type": "execute_result"
    }
   ],
   "source": [
    "random_numbers.argmax(), random_numbers[random_numbers.argmax()]"
   ]
  },
  {
   "cell_type": "code",
   "execution_count": 61,
   "metadata": {
    "collapsed": false
   },
   "outputs": [
    {
     "data": {
      "text/plain": [
       "(132, 0.0009618470217825914)"
      ]
     },
     "execution_count": 61,
     "metadata": {},
     "output_type": "execute_result"
    }
   ],
   "source": [
    "random_numbers.argmin(), random_numbers[random_numbers.argmin()]"
   ]
  },
  {
   "cell_type": "markdown",
   "metadata": {},
   "source": [
    "## Exercise"
   ]
  },
  {
   "cell_type": "code",
   "execution_count": 84,
   "metadata": {
    "collapsed": true
   },
   "outputs": [],
   "source": [
    "# 0. import numpy\n",
    "import numpy as np"
   ]
  },
  {
   "cell_type": "code",
   "execution_count": 99,
   "metadata": {
    "collapsed": false
   },
   "outputs": [],
   "source": [
    "# 1. sample 1000 elements from normal distribution \n",
    "#numpy.random?\n",
    "#numpy.random.randn?\n",
    "myNormNumbers = np.random.randn(1000)\n",
    "#print myNormNumbers\n",
    "#want to plot these numbers to see the sampling of the distribution!!!"
   ]
  },
  {
   "cell_type": "code",
   "execution_count": 100,
   "metadata": {
    "collapsed": false
   },
   "outputs": [
    {
     "name": "stdout",
     "output_type": "stream",
     "text": [
      "All selected numbers are positive\n"
     ]
    }
   ],
   "source": [
    "# 2. leave only positive numbers (from previous exercise)\n",
    "myPositiveNormNumbers = (myNormNumbers[myNormNumbers>0]).copy()\n",
    "isPositive = True\n",
    "for number in myPositiveNormNumbers:\n",
    "    if number <= 0:\n",
    "        isPositive = False\n",
    "        print \"There is a non-positive number, \", number\n",
    "if isPositive:\n",
    "    print \"All selected numbers are positive\"\n",
    "#print myPositiveNormNumbers"
   ]
  },
  {
   "cell_type": "code",
   "execution_count": 102,
   "metadata": {
    "collapsed": false
   },
   "outputs": [
    {
     "name": "stdout",
     "output_type": "stream",
     "text": [
      "Number of positive normal-distributed numbers:  526\n",
      "Min:  0.00195332694281 ; Max:  2.79975954754\n",
      "Mean:  0.779292730966 ; Variance:  0.365653651488\n",
      "**************************************************\n",
      "Number of normal-distributed numbers:  1000\n",
      "Min:  -2.99061655615 ; Max:  2.79975954754\n",
      "Mean:  0.0234852304749 ; Variance:  1.00570118967\n"
     ]
    }
   ],
   "source": [
    "# 3. count number of left numbers, their minimum, maximum, mean and variance.\n",
    "nPositive = len(myPositiveNormNumbers)\n",
    "minPositive = myPositiveNormNumbers.min()\n",
    "maxPositive = myPositiveNormNumbers.max()\n",
    "meanPositive = myPositiveNormNumbers.mean()\n",
    "varPositive = myPositiveNormNumbers.var()\n",
    "print \"Number of positive normal-distributed numbers: \", nPositive\n",
    "print \"Min: \", minPositive, \"; Max: \", maxPositive\n",
    "print \"Mean: \", meanPositive, \"; Variance: \", varPositive\n",
    "n = len(myNormNumbers)\n",
    "#print myNormNumbers\n",
    "minN = myNormNumbers.min()\n",
    "maxN= myNormNumbers.max()\n",
    "meanN = myNormNumbers.mean()\n",
    "varN = myNormNumbers.var()\n",
    "print \"**************************************************\"\n",
    "print \"Number of normal-distributed numbers: \", n\n",
    "print \"Min: \", minN, \"; Max: \", maxN\n",
    "print \"Mean: \", meanN, \"; Variance: \", varN"
   ]
  },
  {
   "cell_type": "markdown",
   "metadata": {},
   "source": [
    "## References:\n",
    "* `numpy` documentation: https://docs.scipy.org/doc/numpy/reference/\n",
    "    * almost any question about `numpy` is already answered on stackoverflow\n",
    "* [From python to numpy: a beautiful book about numpy](https://github.com/rougier/from-python-to-numpy)\n",
    "* Data manipulation with `numpy`: tips and tricks [part1](http://arogozhnikov.github.io/2015/09/29/NumpyTipsAndTricks1.html), [part2](http://arogozhnikov.github.io/2015/09/30/NumpyTipsAndTricks2.html)\n"
   ]
  },
  {
   "cell_type": "code",
   "execution_count": 116,
   "metadata": {
    "collapsed": false
   },
   "outputs": [
    {
     "data": {
      "image/png": "[encoded data removed]",
      "text/plain": [
       "<matplotlib.figure.Figure at 0x7fa308db79d0>"
      ]
     },
     "metadata": {},
     "output_type": "display_data"
    }
   ],
   "source": [
    "############ TEST AREA ##############\n",
    "\n",
    "from __future__ import print_function # for python 2 & python 3 compatibility\n",
    "%matplotlib inline\n",
    "import numpy as np\n",
    "import matplotlib.pyplot as plt\n",
    "\n",
    "x = np.linspace(0,2*np.pi,10)\n",
    "y = np.sin(x)\n",
    "xvals = np.linspace(0,2*np.pi,50) #x values of linear interpolation\n",
    "yinterp = np.interp(xvals,x,y)\n",
    "#plotting\n",
    "plt.plot(x,y,'o')\n",
    "plt.plot(xvals,yinterp,'o')\n",
    "plt.show()\n",
    "\n"
   ]
  },
  {
   "cell_type": "code",
   "execution_count": 117,
   "metadata": {
    "collapsed": false
   },
   "outputs": [
    {
     "data": {
      "image/png": "[encoded data removed]",
      "text/plain": [
       "<matplotlib.figure.Figure at 0x7fa308bc87d0>"
      ]
     },
     "metadata": {},
     "output_type": "display_data"
    },
    {
     "data": {
      "image/png": "[encoded data removed]",
      "text/plain": [
       "<matplotlib.figure.Figure at 0x7fa308cb91d0>"
      ]
     },
     "metadata": {},
     "output_type": "display_data"
    }
   ],
   "source": [
    "## Iron Transformation\n",
    "\n",
    "class IronTransform:\n",
    "    def fit(self, data, weights):\n",
    "        weights = weights / weights.sum()\n",
    "        sorter = np.argsort(data)\n",
    "        self.x = data[sorter]\n",
    "        self.y = np.cumsum(weights[sorter])\n",
    "        return self\n",
    "        \n",
    "    def transform(self, data):\n",
    "        return np.interp(data, self.x, self.y)\n",
    "    \n",
    "sig_pred = np.random.normal(size=10000) + 1\n",
    "bck_pred = np.random.normal(size=10000) - 1\n",
    "\n",
    "plt.figure()\n",
    "plt.hist(sig_pred, bins=30, alpha=0.5)\n",
    "plt.hist(bck_pred, bins=30, alpha=0.5)\n",
    "plt.show()\n",
    "iron = IronTransform().fit(sig_pred, weights=np.ones(len(sig_pred)))\n",
    "\n",
    "plt.figure()\n",
    "plt.hist(iron.transform(sig_pred), bins=30, alpha=0.5)\n",
    "plt.hist(iron.transform(bck_pred), bins=30, alpha=0.5)\n",
    "plt.show()"
   ]
  },
  {
   "cell_type": "code",
   "execution_count": null,
   "metadata": {
    "collapsed": true
   },
   "outputs": [],
   "source": []
  }
 ],
 "metadata": {
  "kernelspec": {
   "display_name": "Python 2",
   "language": "python",
   "name": "python2"
  },
  "language_info": {
   "codemirror_mode": {
    "name": "ipython",
    "version": 2
   },
   "file_extension": ".py",
   "mimetype": "text/x-python",
   "name": "python",
   "nbconvert_exporter": "python",
   "pygments_lexer": "ipython2",
   "version": "2.7.12"
  }
 },
 "nbformat": 4,
 "nbformat_minor": 0
}
